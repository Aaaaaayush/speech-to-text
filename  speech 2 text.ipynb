{
 "cells": [
  {
   "cell_type": "code",
   "execution_count": 3,
   "id": "084eeae1",
   "metadata": {},
   "outputs": [
    {
     "ename": "AttributeError",
     "evalue": "'Recognizer' object has no attribute 'Recognize'",
     "output_type": "error",
     "traceback": [
      "\u001b[1;31m---------------------------------------------------------------------------\u001b[0m",
      "\u001b[1;31mAttributeError\u001b[0m                            Traceback (most recent call last)",
      "Input \u001b[1;32mIn [3]\u001b[0m, in \u001b[0;36m<cell line: 10>\u001b[1;34m()\u001b[0m\n\u001b[0;32m     12\u001b[0m     audio \u001b[38;5;241m=\u001b[39m r\u001b[38;5;241m.\u001b[39mlisten(source)\n\u001b[0;32m     14\u001b[0m \u001b[38;5;28;01mtry\u001b[39;00m:\n\u001b[1;32m---> 15\u001b[0m     \u001b[38;5;28;01mif\u001b[39;00m (\u001b[43mr\u001b[49m\u001b[38;5;241;43m.\u001b[39;49m\u001b[43mRecognize\u001b[49m(audio) \u001b[38;5;241m==\u001b[39m \u001b[38;5;124m\"\u001b[39m\u001b[38;5;124mstart\u001b[39m\u001b[38;5;124m\"\u001b[39m) :\n\u001b[0;32m     16\u001b[0m         listen \u001b[38;5;241m=\u001b[39m \u001b[38;5;28;01mTrue\u001b[39;00m\n\u001b[0;32m     17\u001b[0m         \u001b[38;5;28mprint\u001b[39m(\u001b[38;5;124m\"\u001b[39m\u001b[38;5;124mListening...\u001b[39m\u001b[38;5;124m\"\u001b[39m)\n",
      "\u001b[1;31mAttributeError\u001b[0m: 'Recognizer' object has no attribute 'Recognize'"
     ]
    }
   ],
   "source": [
    "import speech_recognition as sr\n",
    "import pyttsx3\n",
    "\n",
    "r = sr.Recognizer()\n",
    "engine = pyttsx3.init()\n",
    "listen = False\n",
    "\n",
    "# Define methods\n",
    "while True:\n",
    "    while listen == False:\n",
    "        with sr.Microphone() as source:\n",
    "            audio = r.listen(source)\n",
    "\n",
    "        try:\n",
    "            if (r.recognize(audio) == \"start\") :\n",
    "                listen = True\n",
    "                print(\"Listening...\")\n",
    "                break\n",
    "            else:\n",
    "                continue\n",
    "        except LookupError:\n",
    "            continue\n",
    "\n",
    "while listen == True:\n",
    "    with sr.Microphone() as source:\n",
    "        audio = r.listen(source)\n",
    "    print(\"1\")\n",
    "    try:\n",
    "        print(\"2\")\n",
    "        if (r.recognize(audio) == \"stop\") :\n",
    "            listen = False\n",
    "            print(\"Listening stopped. Goodnight\")\n",
    "            break\n",
    "        else:\n",
    "            print(\"You said \" + r.recognize(audio))\n",
    "    except LookupError:\n",
    "        engine.say('Audio cannot be read!')\n",
    "        engine.runAndWait()\n",
    "        print(\"Could not understand audio\")"
   ]
  },
  {
   "cell_type": "code",
   "execution_count": 2,
   "id": "1608a68b",
   "metadata": {},
   "outputs": [
    {
     "name": "stdout",
     "output_type": "stream",
     "text": [
      "Defaulting to user installation because normal site-packages is not writeable\n",
      "Requirement already satisfied: pyttsx3 in c:\\users\\ayush\\appdata\\roaming\\python\\python39\\site-packages (2.90)\n",
      "Requirement already satisfied: pypiwin32 in c:\\users\\ayush\\appdata\\roaming\\python\\python39\\site-packages (from pyttsx3) (223)\n",
      "Requirement already satisfied: comtypes in c:\\programdata\\anaconda3\\lib\\site-packages (from pyttsx3) (1.1.10)\n",
      "Requirement already satisfied: pywin32 in c:\\programdata\\anaconda3\\lib\\site-packages (from pyttsx3) (302)\n",
      "Note: you may need to restart the kernel to use updated packages.\n"
     ]
    }
   ],
   "source": [
    "pip install pyttsx3"
   ]
  },
  {
   "cell_type": "code",
   "execution_count": null,
   "id": "ca8debe8",
   "metadata": {},
   "outputs": [],
   "source": []
  }
 ],
 "metadata": {
  "kernelspec": {
   "display_name": "Python 3 (ipykernel)",
   "language": "python",
   "name": "python3"
  },
  "language_info": {
   "codemirror_mode": {
    "name": "ipython",
    "version": 3
   },
   "file_extension": ".py",
   "mimetype": "text/x-python",
   "name": "python",
   "nbconvert_exporter": "python",
   "pygments_lexer": "ipython3",
   "version": "3.9.12"
  }
 },
 "nbformat": 4,
 "nbformat_minor": 5
}
